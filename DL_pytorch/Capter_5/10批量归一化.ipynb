{
 "cells": [
  {
   "cell_type": "code",
   "execution_count": 2,
   "metadata": {},
   "outputs": [],
   "source": [
    "import time\n",
    "import torch\n",
    "from torch import nn,optim\n",
    "import torch.nn.functional as F\n",
    "\n",
    "import sys\n",
    "sys.path.append('..')\n",
    "import d2lzh_pytorch as d2l\n",
    "device = torch.device('cuda' if torch.cuda.is_available() else 'cpu')"
   ]
  },
  {
   "cell_type": "code",
   "execution_count": 3,
   "metadata": {},
   "outputs": [],
   "source": [
    "def batch_norm(is_training,X,gamma,beta,moving_mean,moving_var,eps,momentum):\n",
    "    # 判断当前模式是训练模式还是预测模式\n",
    "    if not is_training:\n",
    "         # 如果是在预测模式下，直接使用传入的移动平均所得的均值和方差\n",
    "        X_hat = (X-moving_mean)/torch.sqrt(moving_var+eps)\n",
    "    else:\n",
    "        assert len(X.shape) in (2,4)\n",
    "        if len(X.shape) == 2:\n",
    "            #全连接层\n",
    "            mean = X.mean(dim=0)\n",
    "            var = ((X-mean)**2).mean(dim=0)\n",
    "        else:\n",
    "            #卷积层\n",
    "            mean = X.mean(dim=(0,2,3),keepdim = True)\n",
    "            var =  ((X-mean)**2).mean(dim=(0,2,3),keepdim = True)\n",
    "        X_hat = (X-mean)/torch.sqrt(var+eps)\n",
    "        #移动方差和均值，不取决于小样本\n",
    "        moving_mean = momentum * moving_mean + (1.0-momentum)*mean\n",
    "        moving_var = momentum*moving_var + (1.0-momentum)*var\n",
    "    Y = gamma * X_hat + beta\n",
    "    return Y,moving_mean,moving_var"
   ]
  },
  {
   "cell_type": "code",
   "execution_count": 4,
   "metadata": {},
   "outputs": [],
   "source": [
    "class BatchNorm(nn.Module):\n",
    "    def __init__(self,num_features,num_dims):\n",
    "        super(BatchNorm,self).__init__()\n",
    "        if num_dims == 2:\n",
    "            shape = (1,num_features)\n",
    "        else:\n",
    "            shape = (1,num_features,1,1)\n",
    "        #参与迭代\n",
    "        self.gamma = nn.Parameter(torch.ones(shape))\n",
    "        self.beta = nn.Parameter(torch.zeros(shape))\n",
    "        #不参与迭代\n",
    "        self.moving_mean = torch.zeros(shape)\n",
    "        self.moving_var = torch.zeros(shape)\n",
    "    def forward(self,X):\n",
    "        #保持计算位置一致\n",
    "        if self.moving_mean.device != X.device:\n",
    "            self.moving_mean = self.moving_mean.to(X.device)\n",
    "            self.moving_var = self.moving_var.to(X.device)\n",
    "        Y,self.moving_mean,self.moving_var = batch_norm(self.training,X,self.gamma,\n",
    "                                                        self.beta,self.moving_mean,\n",
    "                                                        self.moving_var,eps=1e-5,momentum=0.9)\n",
    "        return Y"
   ]
  },
  {
   "cell_type": "code",
   "execution_count": 5,
   "metadata": {},
   "outputs": [],
   "source": [
    "net = nn.Sequential(\n",
    "        nn.Conv2d(1,6,5),# in_channels, out_channels, kernel_size\n",
    "        BatchNorm(6,num_dims=4),\n",
    "        nn.Sigmoid(),\n",
    "        nn.MaxPool2d(2,2),\n",
    "        nn.Conv2d(6,16,5),\n",
    "        BatchNorm(16,num_dims=4),\n",
    "        nn.Sigmoid(),\n",
    "        nn.MaxPool2d(2,2),\n",
    "        d2l.FlattenLayer(),\n",
    "        nn.Linear(16*4*4,120),\n",
    "        BatchNorm(120,num_dims=2),\n",
    "        nn.Sigmoid(),\n",
    "        nn.Linear(120,84),\n",
    "        BatchNorm(84,num_dims=2),\n",
    "        nn.Sigmoid(),\n",
    "        nn.Linear(84,10))"
   ]
  },
  {
   "cell_type": "code",
   "execution_count": 6,
   "metadata": {},
   "outputs": [
    {
     "name": "stdout",
     "output_type": "stream",
     "text": [
      "training on  cuda\n",
      "epoch 1, loss 1.0076, train acc 0.777, test acc 0.830, time 11.0 sec\n",
      "epoch 2, loss 0.4735, train acc 0.858, test acc 0.842, time 9.3 sec\n",
      "epoch 3, loss 0.3798, train acc 0.874, test acc 0.858, time 9.2 sec\n",
      "epoch 4, loss 0.3430, train acc 0.882, test acc 0.866, time 9.6 sec\n",
      "epoch 5, loss 0.3187, train acc 0.889, test acc 0.818, time 9.4 sec\n"
     ]
    }
   ],
   "source": [
    "batch_size = 256\n",
    "train_iter, test_iter = d2l.load_data_fashion_mnist(batch_size=batch_size)\n",
    "\n",
    "lr, num_epochs = 0.001, 5\n",
    "optimizer = torch.optim.Adam(net.parameters(), lr=lr)\n",
    "d2l.train_ch5(net, train_iter, test_iter, batch_size, optimizer, device, num_epochs)"
   ]
  },
  {
   "cell_type": "code",
   "execution_count": 7,
   "metadata": {},
   "outputs": [
    {
     "data": {
      "text/plain": [
       "tensor([1.0567, 1.0016, 0.9698, 0.9174, 1.1968, 0.9967], device='cuda:0',\n",
       "       grad_fn=<ViewBackward>)"
      ]
     },
     "execution_count": 7,
     "metadata": {},
     "output_type": "execute_result"
    }
   ],
   "source": [
    "net[1].gamma.view((-1,))"
   ]
  },
  {
   "cell_type": "code",
   "execution_count": 8,
   "metadata": {},
   "outputs": [
    {
     "data": {
      "text/plain": [
       "tensor([-0.6612, -0.7462, -0.5699, -0.3830,  0.2342, -0.1123], device='cuda:0',\n",
       "       grad_fn=<ViewBackward>)"
      ]
     },
     "execution_count": 8,
     "metadata": {},
     "output_type": "execute_result"
    }
   ],
   "source": [
    "net[1].beta.view((-1,))"
   ]
  },
  {
   "cell_type": "code",
   "execution_count": null,
   "metadata": {},
   "outputs": [],
   "source": [
    "import matpl"
   ]
  }
 ],
 "metadata": {
  "kernelspec": {
   "display_name": "Python 3",
   "language": "python",
   "name": "python3"
  },
  "language_info": {
   "codemirror_mode": {
    "name": "ipython",
    "version": 3
   },
   "file_extension": ".py",
   "mimetype": "text/x-python",
   "name": "python",
   "nbconvert_exporter": "python",
   "pygments_lexer": "ipython3",
   "version": "3.7.4"
  }
 },
 "nbformat": 4,
 "nbformat_minor": 4
}
