{
 "cells": [
  {
   "cell_type": "code",
   "execution_count": 2,
   "metadata": {},
   "outputs": [],
   "source": [
    "import time\n",
    "import torch\n",
    "from torch import nn,optim\n",
    "import sys\n",
    "sys.path.append('..')\n",
    "import d2lzh_pytorch as d2l\n",
    "device = torch.device('cuda' if torch.cuda.is_available() else 'cpu')"
   ]
  },
  {
   "cell_type": "code",
   "execution_count": 3,
   "metadata": {},
   "outputs": [],
   "source": [
    "def nin_block(in_channels,out_channels,kernel_size,stride,padding):\n",
    "    blk = nn.Sequential(nn.Conv2d(in_channels,out_channels,kernel_size,stride,padding),\n",
    "                       nn.ReLU(),\n",
    "                       nn.Conv2d(out_channels,out_channels,kernel_size=1),#输入/出通道数是通道数，经过卷积层计算，尤其是经过池化层后，高宽缩小不在这两个参数计算范围内\n",
    "                       nn.ReLU(),\n",
    "                       nn.Conv2d(out_channels,out_channels,kernel_size=1),\n",
    "                       nn.ReLU())\n",
    "    return blk"
   ]
  },
  {
   "cell_type": "code",
   "execution_count": 4,
   "metadata": {},
   "outputs": [],
   "source": [
    "import torch.nn.functional as F\n",
    "\n",
    "class GlobalAvgpool2d(nn.Module):\n",
    "    def __init__(self):\n",
    "        super(GlobalAvgpool2d,self).__init__()\n",
    "    def forward(self,x):\n",
    "        return F.avg_pool2d(x,kernel_size = x.size()[2:])"
   ]
  },
  {
   "cell_type": "code",
   "execution_count": 5,
   "metadata": {},
   "outputs": [],
   "source": [
    "net = nn.Sequential(\n",
    "    nin_block(1,96,kernel_size=11,stride=4,padding=0),\n",
    "    nn.MaxPool2d(3,2),\n",
    "    nin_block(96,256,kernel_size=5,stride=1,padding=2),\n",
    "    nn.MaxPool2d(3,2),\n",
    "    nin_block(256,384,kernel_size=3,stride=1,padding=1),\n",
    "    nn.MaxPool2d(3,2),\n",
    "    nn.Dropout(0.5),\n",
    "    nin_block(384,10,kernel_size=3,stride=1,padding=1),\n",
    "    GlobalAvgpool2d(),\n",
    "    #转换为1维输出\n",
    "    d2l.FlattenLayer())"
   ]
  },
  {
   "cell_type": "code",
   "execution_count": 7,
   "metadata": {},
   "outputs": [
    {
     "name": "stdout",
     "output_type": "stream",
     "text": [
      "0 torch.Size([1, 96, 54, 54])\n",
      "1 torch.Size([1, 96, 26, 26])\n",
      "2 torch.Size([1, 256, 26, 26])\n",
      "3 torch.Size([1, 256, 12, 12])\n",
      "4 torch.Size([1, 384, 12, 12])\n",
      "5 torch.Size([1, 384, 5, 5])\n",
      "6 torch.Size([1, 384, 5, 5])\n",
      "7 torch.Size([1, 10, 5, 5])\n",
      "8 torch.Size([1, 10, 1, 1])\n",
      "9 torch.Size([1, 10])\n"
     ]
    }
   ],
   "source": [
    "X = torch.rand(1,1,224,224)\n",
    "for name,blk in net.named_children():\n",
    "    X = blk(X)\n",
    "    print(name,X.shape)"
   ]
  },
  {
   "cell_type": "code",
   "execution_count": 8,
   "metadata": {},
   "outputs": [
    {
     "name": "stdout",
     "output_type": "stream",
     "text": [
      "training on  cuda\n",
      "epoch 1, loss 1.1555, train acc 0.611, test acc 0.708, time 137.7 sec\n",
      "epoch 2, loss 0.7804, train acc 0.751, test acc 0.772, time 132.0 sec\n",
      "epoch 3, loss 0.6968, train acc 0.777, test acc 0.778, time 134.4 sec\n",
      "epoch 4, loss 0.6511, train acc 0.788, test acc 0.788, time 135.1 sec\n",
      "epoch 5, loss 0.6287, train acc 0.793, test acc 0.794, time 133.2 sec\n"
     ]
    }
   ],
   "source": [
    "batch_size = 128\n",
    "# 如出现“out of memory”的报错信息，可减小batch_size或resize\n",
    "train_iter, test_iter = d2l.load_data_fashion_mnist(batch_size, resize=224)\n",
    "\n",
    "lr, num_epochs = 0.002, 5\n",
    "optimizer = torch.optim.Adam(net.parameters(), lr=lr)\n",
    "d2l.train_ch5(net, train_iter, test_iter, batch_size, optimizer, device, num_epochs)"
   ]
  },
  {
   "cell_type": "code",
   "execution_count": null,
   "metadata": {},
   "outputs": [],
   "source": []
  }
 ],
 "metadata": {
  "kernelspec": {
   "display_name": "Python 3",
   "language": "python",
   "name": "python3"
  },
  "language_info": {
   "codemirror_mode": {
    "name": "ipython",
    "version": 3
   },
   "file_extension": ".py",
   "mimetype": "text/x-python",
   "name": "python",
   "nbconvert_exporter": "python",
   "pygments_lexer": "ipython3",
   "version": "3.7.4"
  }
 },
 "nbformat": 4,
 "nbformat_minor": 4
}
